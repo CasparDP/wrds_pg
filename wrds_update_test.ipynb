{
 "cells": [
  {
   "cell_type": "markdown",
   "metadata": {
    "collapsed": true
   },
   "source": [
    "Code to import WRDS data to PostgreSQL\n",
    "=========\n",
    "\n",
    "This repository contains code to pull together data from [WRDS](https://wrds-web.wharton.upenn.edu/wrds/).\n",
    "\n",
    "The code will only work if you have access to WRDS and to the data in question.\n",
    "\n",
    "## Requirements\n",
    "\n",
    "### 1. Git\n",
    "\n",
    "While not strictly necessary to use the scripts here, [Git](https://git-scm.com/downloads) likely makes it easier to download and to update.\n",
    "\n",
    "I keep all Git repositories in `~/git`. So to get this repository, I could do:\n",
    "\n",
    "```\n",
    "cd ~/git\n",
    "git clone https://github.com/iangow/wrds_pg.git\n",
    "```\n",
    "\n",
    "This will create a copy of the repository in `~/git/wrds_pg`.\n",
    "Note that one can get updates to the repository by going to the directory and \"pulling\" the latest code:\n",
    "\n",
    "```\n",
    "cd ~/git/wrds_pg\n",
    "git pull\n",
    "```\n",
    "\n",
    "Alternatively, I think you could fork the repository on GitHub and then clone. \n",
    "I think that cloning using the SSH URL (e.g., `git@github.com:iangow/wrds_pg.git`) is necessary for Git pulling and pushing to work well in RStudio.\n",
    "\n",
    "### 2. Python\n",
    "\n",
    "The code has been tested on Python 3 and requires the following packages:\n",
    "\n",
    "- `paramiko`: for SSH communication with the WRDS server.\n",
    "- `pandas`: for various utility purposes (would be easy to remove this dependency, but ).\n",
    "- `sqlalchemy`: for database-related stuff.\n",
    "- `psycopg2`: Used by SQLAlchemy to connect to PostgreSQL.\n",
    "\n",
    "### 2. PostgreSQL\n",
    "\n",
    "You should have a PostgreSQL database to store the data.\n",
    "There are also some data dependencies in that some scripts assume the existence of other data in the database.\n",
    "Also, I assume the existence of role `wrds` and `wrds_access` (SQL like `CREATE ROLE wrds` works to add these if they are absent).\n",
    "\n",
    "### 3. Environment variables\n",
    "\n",
    "I am migrating the scripts, etc., from using hard-coded values (e.g., my WRDS ID `iangow`) to using environment variales. \n",
    "Environment variables that I use include:\n",
    "\n",
    "- `PGDATABASE`: The name of the PostgreSQL database you use.\n",
    "- `PGUSER`: Your username on the PostgreSQL database.\n",
    "- `PGHOST`: Where the PostgreSQL database is to be found (this will be `localhost` if its on the same machine as you're running the code on)\n",
    "- `WRDS_ID`: Your [WRDS](https://wrds-web.wharton.upenn.edu/wrds/) ID.\n",
    "\n",
    "I set these environment variables in `~/.profile`:\n",
    "\n",
    "```\n",
    "export PGHOST=\"localhost\"\n",
    "export PGDATABASE=\"crsp\"\n",
    "export WRDS_ID=\"iangow\"\n",
    "export PGUSER=\"igow\"\n",
    "```\n",
    "\n",
    "### 4. A WRDS ID\n",
    "\n",
    "Note that I use public-key authentication to access WRDS. Following hints taken from [here](http://www.debian-administration.org/articles/152), I set up a public key. I then copied that key to the WRDS server from the terminal on my computer. (Note that this code assumes you have a directory `.ssh` in your home directory. If not, log into WRDS via SSH, then type `mkdir ~/.ssh` to create this.) Here's code to create the key and send it to WRDS (for me):\n",
    "\n",
    "```\n",
    "ssh-keygen -t rsa\n",
    "cat ~/.ssh/id_rsa.pub | ssh iangow@wrds-cloud.wharton.upenn.edu \"cat >> ~/.ssh/authorized_keys\"\n",
    "```\n",
    "\n",
    "I use an empty passphrase in setting up my key so that the scripts can run without user intervention."
   ]
  },
  {
   "cell_type": "code",
   "execution_count": 1,
   "metadata": {},
   "outputs": [
    {
     "name": "stdout",
     "output_type": "stream",
     "text": [
      "iangow\n"
     ]
    }
   ],
   "source": [
    "from sqlalchemy import create_engine\n",
    "import os\n",
    "dbname = os.getenv(\"PGDATABASE\")\n",
    "host = os.getenv(\"PGHOST\", \"localhost\")\n",
    "user = os.getenv(\"PGUSER\", os.getlogin())\n",
    "wrds_id = \"iangow\" # os.getenv(\"WRDS_ID\")\n",
    "dbname = engine = create_engine(\"postgresql://\" + user + \"@\" + host + \"/\" + dbname)\n",
    "\n",
    "from wrds_fetch import wrds_update, set_table_comment\n",
    "print(wrds_id)"
   ]
  },
  {
   "cell_type": "code",
   "execution_count": 2,
   "metadata": {
    "collapsed": true
   },
   "outputs": [],
   "source": [
    "schema = \"crsp\"\n",
    "table_name = \"dsi\""
   ]
  },
  {
   "cell_type": "code",
   "execution_count": 3,
   "metadata": {},
   "outputs": [
    {
     "name": "stdout",
     "output_type": "stream",
     "text": [
      "Forcing update based on user request.\n"
     ]
    },
    {
     "data": {
      "text/plain": [
       "True"
      ]
     },
     "execution_count": 3,
     "metadata": {},
     "output_type": "execute_result"
    }
   ],
   "source": [
    "from wrds_fetch import wrds_update\n",
    "wrds_update(table_name, schema, engine, wrds_id, force=True)"
   ]
  },
  {
   "cell_type": "code",
   "execution_count": 4,
   "metadata": {},
   "outputs": [
    {
     "data": {
      "text/html": [
       "<div>\n",
       "<table border=\"1\" class=\"dataframe\">\n",
       "  <thead>\n",
       "    <tr style=\"text-align: right;\">\n",
       "      <th></th>\n",
       "      <th>date</th>\n",
       "      <th>vwretd</th>\n",
       "      <th>vwretx</th>\n",
       "      <th>ewretd</th>\n",
       "      <th>ewretx</th>\n",
       "      <th>sprtrn</th>\n",
       "      <th>spindx</th>\n",
       "      <th>totval</th>\n",
       "      <th>totcnt</th>\n",
       "      <th>usdval</th>\n",
       "      <th>usdcnt</th>\n",
       "    </tr>\n",
       "  </thead>\n",
       "  <tbody>\n",
       "    <tr>\n",
       "      <th>0</th>\n",
       "      <td>1925-12-31</td>\n",
       "      <td>NaN</td>\n",
       "      <td>NaN</td>\n",
       "      <td>NaN</td>\n",
       "      <td>NaN</td>\n",
       "      <td>None</td>\n",
       "      <td>None</td>\n",
       "      <td>27487487.2</td>\n",
       "      <td>503</td>\n",
       "      <td>NaN</td>\n",
       "      <td>NaN</td>\n",
       "    </tr>\n",
       "    <tr>\n",
       "      <th>1</th>\n",
       "      <td>1926-01-02</td>\n",
       "      <td>0.005689</td>\n",
       "      <td>0.005689</td>\n",
       "      <td>0.009516</td>\n",
       "      <td>0.009516</td>\n",
       "      <td>None</td>\n",
       "      <td>None</td>\n",
       "      <td>27600296.6</td>\n",
       "      <td>497</td>\n",
       "      <td>27366755.7</td>\n",
       "      <td>494.0</td>\n",
       "    </tr>\n",
       "    <tr>\n",
       "      <th>2</th>\n",
       "      <td>1926-01-04</td>\n",
       "      <td>0.000706</td>\n",
       "      <td>0.000706</td>\n",
       "      <td>0.005780</td>\n",
       "      <td>0.005780</td>\n",
       "      <td>None</td>\n",
       "      <td>None</td>\n",
       "      <td>27577892.1</td>\n",
       "      <td>502</td>\n",
       "      <td>27479721.6</td>\n",
       "      <td>495.0</td>\n",
       "    </tr>\n",
       "    <tr>\n",
       "      <th>3</th>\n",
       "      <td>1926-01-05</td>\n",
       "      <td>-0.004821</td>\n",
       "      <td>-0.004867</td>\n",
       "      <td>-0.001927</td>\n",
       "      <td>-0.002030</td>\n",
       "      <td>None</td>\n",
       "      <td>None</td>\n",
       "      <td>27530212.5</td>\n",
       "      <td>501</td>\n",
       "      <td>27561757.1</td>\n",
       "      <td>499.0</td>\n",
       "    </tr>\n",
       "    <tr>\n",
       "      <th>4</th>\n",
       "      <td>1926-01-06</td>\n",
       "      <td>-0.000423</td>\n",
       "      <td>-0.000427</td>\n",
       "      <td>0.001182</td>\n",
       "      <td>0.001155</td>\n",
       "      <td>None</td>\n",
       "      <td>None</td>\n",
       "      <td>27618772.6</td>\n",
       "      <td>505</td>\n",
       "      <td>27526837.5</td>\n",
       "      <td>500.0</td>\n",
       "    </tr>\n",
       "    <tr>\n",
       "      <th>5</th>\n",
       "      <td>1926-01-07</td>\n",
       "      <td>0.004988</td>\n",
       "      <td>0.004953</td>\n",
       "      <td>0.008453</td>\n",
       "      <td>0.008384</td>\n",
       "      <td>None</td>\n",
       "      <td>None</td>\n",
       "      <td>27690393.8</td>\n",
       "      <td>504</td>\n",
       "      <td>27553072.6</td>\n",
       "      <td>504.0</td>\n",
       "    </tr>\n",
       "  </tbody>\n",
       "</table>\n",
       "</div>"
      ],
      "text/plain": [
       "         date    vwretd    vwretx    ewretd    ewretx sprtrn spindx  \\\n",
       "0  1925-12-31       NaN       NaN       NaN       NaN   None   None   \n",
       "1  1926-01-02  0.005689  0.005689  0.009516  0.009516   None   None   \n",
       "2  1926-01-04  0.000706  0.000706  0.005780  0.005780   None   None   \n",
       "3  1926-01-05 -0.004821 -0.004867 -0.001927 -0.002030   None   None   \n",
       "4  1926-01-06 -0.000423 -0.000427  0.001182  0.001155   None   None   \n",
       "5  1926-01-07  0.004988  0.004953  0.008453  0.008384   None   None   \n",
       "\n",
       "       totval  totcnt      usdval  usdcnt  \n",
       "0  27487487.2     503         NaN     NaN  \n",
       "1  27600296.6     497  27366755.7   494.0  \n",
       "2  27577892.1     502  27479721.6   495.0  \n",
       "3  27530212.5     501  27561757.1   499.0  \n",
       "4  27618772.6     505  27526837.5   500.0  \n",
       "5  27690393.8     504  27553072.6   504.0  "
      ]
     },
     "execution_count": 4,
     "metadata": {},
     "output_type": "execute_result"
    }
   ],
   "source": [
    "import pandas as pd\n",
    "df = pd.read_sql(\"\"\"SELECT * FROM \"%s\".\"%s\" LIMIT 6\"\"\" % (schema, table_name), engine)\n",
    "df"
   ]
  }
 ],
 "metadata": {
  "kernelspec": {
   "display_name": "Python 3",
   "language": "python",
   "name": "python3"
  },
  "language_info": {
   "codemirror_mode": {
    "name": "ipython",
    "version": 3
   },
   "file_extension": ".py",
   "mimetype": "text/x-python",
   "name": "python",
   "nbconvert_exporter": "python",
   "pygments_lexer": "ipython3",
   "version": "3.6.1"
  }
 },
 "nbformat": 4,
 "nbformat_minor": 2
}
