{
 "cells": [
  {
   "cell_type": "code",
   "execution_count": null,
   "metadata": {
    "collapsed": true
   },
   "outputs": [],
   "source": [
    "from wrds_fetch import get_wrds_process\n",
    "import pandas as pd\n",
    "from io import StringIO\n",
    "p = get_wrds_process(table_name = \"dsi\", schema = \"crsp\", wrds_id = \"iangow\")\n",
    "df = pd.read_csv(StringIO(p.read().decode('latin1')))\n",
    "df.columns = map(str.lower, df.columns)\n",
    "p.close()"
   ]
  }
 ],
 "metadata": {
  "kernelspec": {
   "display_name": "Python 3",
   "language": "python",
   "name": "python3"
  },
  "language_info": {
   "codemirror_mode": {
    "name": "ipython",
    "version": 3
   },
   "file_extension": ".py",
   "mimetype": "text/x-python",
   "name": "python",
   "nbconvert_exporter": "python",
   "pygments_lexer": "ipython3",
   "version": "3.5.3"
  }
 },
 "nbformat": 4,
 "nbformat_minor": 2
}
