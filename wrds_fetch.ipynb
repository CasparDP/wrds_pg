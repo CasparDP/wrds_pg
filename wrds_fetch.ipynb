{
 "cells": [
  {
   "cell_type": "code",
   "execution_count": null,
   "metadata": {
    "collapsed": true
   },
   "outputs": [],
   "source": [
    "# TODO: Get DB connection information from environment\n",
    "#       variables with sensible defaults\n",
    "from sqlalchemy import create_engine\n",
    "engine = create_engine(\"postgresql://localhost/crsp\")"
   ]
  },
  {
   "cell_type": "code",
   "execution_count": null,
   "metadata": {},
   "outputs": [],
   "source": [
    "schema = \"crsp\"\n",
    "table_name = \"msi\"\n",
    "wrds_id = \"iangow\"\n",
    "from wrds_fetch import wrds_to_pg\n",
    "%timeit -n1 -r1 wrds_to_pg(schema, table_name, engine, wrds_id, fix_missing=False)"
   ]
  },
  {
   "cell_type": "code",
   "execution_count": null,
   "metadata": {},
   "outputs": [],
   "source": [
    "# Check thatthe data loaded into PostgreSQL correctly\n",
    "import pandas as pd\n",
    "df = pd.read_sql(\"SELECT * FROM \" + schema + \".\" + table_name + \" LIMIT 6\", engine)\n",
    "df"
   ]
  },
  {
   "cell_type": "code",
   "execution_count": null,
   "metadata": {
    "collapsed": true
   },
   "outputs": [],
   "source": [
    "from wrds_fetch import get_wrds_process\n",
    "import pandas as pd\n",
    "from io import StringIO\n",
    "p = get_wrds_process(table_name = \"dsi\", schema = \"crsp\", wrds_id = \"iangow\")\n",
    "df = pd.read_csv(StringIO(p.read().decode('latin1')))\n",
    "df.columns = map(str.lower, df.columns)\n",
    "p.close()\n",
    "\n"
   ]
  },
  {
   "cell_type": "code",
   "execution_count": null,
   "metadata": {},
   "outputs": [],
   "source": [
    "df"
   ]
  },
  {
   "cell_type": "code",
   "execution_count": null,
   "metadata": {},
   "outputs": [],
   "source": [
    "from wrds_fetch import wrds_to_pandas\n",
    "# Here is code to get data directly from WRDS into Pandas\n",
    "df = wrds_to_pandas(schema, \"msi\", wrds_id)\n",
    "df.head()"
   ]
  },
  {
   "cell_type": "code",
   "execution_count": null,
   "metadata": {
    "collapsed": true
   },
   "outputs": [],
   "source": []
  }
 ],
 "metadata": {
  "kernelspec": {
   "display_name": "Python 3",
   "language": "python",
   "name": "python3"
  },
  "language_info": {
   "codemirror_mode": {
    "name": "ipython",
    "version": 3
   },
   "file_extension": ".py",
   "mimetype": "text/x-python",
   "name": "python",
   "nbconvert_exporter": "python",
   "pygments_lexer": "ipython3",
   "version": "3.6.2"
  }
 },
 "nbformat": 4,
 "nbformat_minor": 2
}
